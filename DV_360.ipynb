{
 "cells": [
  {
   "cell_type": "code",
   "execution_count": 1,
   "metadata": {
    "colab": {
     "base_uri": "https://localhost:8080/"
    },
    "id": "xzi571hv7ceJ",
    "outputId": "3e793872-e66f-4c8f-ef1a-5c059c94304a"
   },
   "outputs": [],
   "source": [
    "!pip install google-api-python-client\n",
    "!pip install google-cloud-vision\n",
    "!pip install fsspec\n",
    "!pip install gcsfs\n",
    "import csv\n",
    "import datetime\n",
    "import io\n",
    "import json\n",
    "import pprint\n",
    "\n",
    "from google.api_core import retry\n",
    "from google_auth_oauthlib.flow import InstalledAppFlow\n",
    "from googleapiclient import discovery\n",
    "from googleapiclient import http\n",
    "from pandas.io.json import json_normalize\n",
    "from google.colab import auth\n",
    "from google.cloud import bigquery\n",
    "from google.cloud import storage\n",
    "auth.authenticate_user()\n",
    "import pandas as pd\n",
    "import requests\n",
    "\n",
    "\n",
    "print('Successfully imported Python libraries!')"
   ]
  },
  {
   "cell_type": "code",
   "execution_count": null,
   "metadata": {
    "id": "Rx9JTD3fwZhi"
   },
   "outputs": [],
   "source": [
    "import time"
   ]
  },
  {
   "cell_type": "code",
   "execution_count": null,
   "metadata": {
    "id": "KS_-irql4zY0"
   },
   "outputs": [],
   "source": [
    "API_SCOPES = ['https://www.googleapis.com/auth/doubleclickbidmanager',\n",
    "            'https://www.googleapis.com/auth/display-video',\n",
    "            'https://www.googleapis.com/auth/devstorage.read_only',\n",
    "            'https://www.googleapis.com/auth/cloud-vision']\n",
    "            "
   ]
  },
  {
   "cell_type": "code",
   "execution_count": 2,
   "metadata": {
    "colab": {
     "base_uri": "https://localhost:8080/"
    },
    "id": "cQ2-lJck7LEX",
    "outputId": "38c788c6-4395-4a5e-856f-6a2fb3bb32a3"
   },
   "outputs": [],
   "source": [
    "flow = InstalledAppFlow.from_client_config(df, API_SCOPES)\n",
    "credentials = flow.run_console()\n",
    "print('Success!')\n",
    "\n",
    "# Build DBM Read API service object\n",
    "dbm_service = discovery.build(\n",
    "    'doubleclickbidmanager', 'v1.1', credentials=credentials)\n",
    "print('DBM API service object created')\n",
    "\n",
    "# Build Google Cloud Storage Read API service object\n",
    "gcs_service = discovery.build('storage', 'v1', credentials=credentials)\n",
    "print('GCS service object created')\n",
    "\n",
    "# Create Display Video API service object\n",
    "display_video_service = discovery.build(\n",
    "    'displayvideo', 'v1', credentials=credentials)"
   ]
  },
  {
   "cell_type": "code",
   "execution_count": null,
   "metadata": {
    "colab": {
     "base_uri": "https://localhost:8080/"
    },
    "id": "tpbLkXeq7nYX",
    "outputId": "44e40695-97e5-4a9d-8cb8-0264c5e8b7e1"
   },
   "outputs": [
    {
     "name": "stdout",
     "output_type": "stream",
     "text": [
      "DV360 settings saved!\n"
     ]
    }
   ],
   "source": [
    "PARTNER_ID = ''  #@param {type:\"string\"}\n",
    "ADVERTISER_ID = ''  #@param {type:\"string\"}\n",
    "CAMPAIGN_ID = ''  #@param {type:\"string\"}\n",
    "\n",
    "# For use with legacy DBM API\n",
    "SDF_VERSION = '5.3'  #@param {type:\"string\"}\n",
    "\n",
    "# For use with DV360 API\n",
    "SDF_VERSION_DV360 = 'SDF_VERSION_5_3'  #@param {type:\"string\"}\n",
    "\n",
    "print('DV360 settings saved!')"
   ]
  },
  {
   "cell_type": "code",
   "execution_count": 3,
   "metadata": {
    "colab": {
     "base_uri": "https://localhost:8080/"
    },
    "id": "R7Cr4CsF9-FJ",
    "outputId": "d2f253be-e7b0-4ba9-ac7f-cbbb720ad588"
   },
   "outputs": [],
   "source": [
    "request = display_video_service.advertisers().lineItems().list(\n",
    "    advertiserId=ADVERTISER_ID,\n",
    "    filter='entityStatus=\"ENTITY_STATUS_ACTIVE\"',\n",
    "    pageSize=1\n",
    "    )\n",
    "\n",
    "response = request.execute()\n",
    "\n",
    "# Check if response is empty.\n",
    "if not response:\n",
    "  print('Advertiser has no active Line Items')\n",
    "else:\n",
    "  pprint.pprint(response['lineItems'])"
   ]
  },
  {
   "cell_type": "code",
   "execution_count": null,
   "metadata": {
    "id": "v32wQuc6WaFb"
   },
   "outputs": [],
   "source": [
    "def get_active_lineitems(ADVERTISER_ID, CAMPAIGN_ID):\n",
    "  \"\"\"Returns list of Lineitems with active status.\"\"\"\n",
    "  list_lineitems = display_video_service.advertisers().lineItems().list(\n",
    "      advertiserId=ADVERTISER_ID,\n",
    "      filter=f'entityStatus=\"ENTITY_STATUS_ACTIVE\" AND campaignId=\"{CAMPAIGN_ID}\"',\n",
    "      fields='lineItems(lineItemId,displayName)'  # Return only two fields\n",
    "  ).execute()\n",
    "\n",
    "  active_lineitems = [li['lineItemId'] for li in list_lineitems['lineItems']]\n",
    "  return active_lineitems"
   ]
  },
  {
   "cell_type": "code",
   "execution_count": null,
   "metadata": {
    "id": "yAatACZSXagN"
   },
   "outputs": [],
   "source": [
    "def create_insertion_order(parent_campaign_id, new_io_name):\n",
    "  \"\"\"Creates a new DV360 insertion order object.\"\"\"\n",
    "\n",
    "  # Define our new Insertion Order boilerplate\n",
    "  new_insertion_order = {\n",
    "      'campaignId': parent_campaign_id,\n",
    "      'displayName': new_io_name,  # Define naming convention \n",
    "      'entityStatus': 'ENTITY_STATUS_DRAFT',\n",
    "      'pacing': {\n",
    "          'pacingPeriod': 'PACING_PERIOD_DAILY',\n",
    "          'pacingType': 'PACING_TYPE_EVEN',\n",
    "          'dailyMaxMicros': '1000000'  # Equiv to $1 or local currency\n",
    "      },\n",
    "      'frequencyCap': {\n",
    "          'unlimited': False,\n",
    "          'timeUnit': 'TIME_UNIT_MONTHS',\n",
    "          'timeUnitCount': 1,\n",
    "          'maxImpressions': 5\n",
    "      },\n",
    "      'performanceGoal': {\n",
    "          'performanceGoalType': 'PERFORMANCE_GOAL_TYPE_CPC',\n",
    "          'performanceGoalAmountMicros': '1000000',  # $1 CPM/CPC target\n",
    "      },\n",
    "      'bidStrategy': {\n",
    "          'fixedBid': {\n",
    "              'bidAmountMicros': '0'\n",
    "          },\n",
    "      },\n",
    "      'budget': {\n",
    "          'automationType':\n",
    "              'INSERTION_ORDER_AUTOMATION_TYPE_NONE',\n",
    "          'budgetUnit':\n",
    "              'BUDGET_UNIT_CURRENCY',\n",
    "          'budgetSegments': [{\n",
    "              'budgetAmountMicros':\n",
    "                  '30000000',  # Equiv to $30 or local currency\n",
    "              'description': 'My first segment',\n",
    "              'dateRange': {\n",
    "                  'startDate': {\n",
    "                      'year': year,\n",
    "                      'month': month,\n",
    "                      'day': day\n",
    "                  },\n",
    "                  'endDate': {\n",
    "                      'year': year_plus30,\n",
    "                      'month': month_plus30,\n",
    "                      'day': day_plus30\n",
    "                  }\n",
    "              }\n",
    "          }]\n",
    "      }\n",
    "  }\n",
    "\n",
    "  # API create() request to generate new Insertion Order\n",
    "  newinsertionorder_request = display_video_service.advertisers(\n",
    "  ).insertionOrders().create(\n",
    "      advertiserId=ADVERTISER_ID, body=new_insertion_order).execute()\n",
    "\n",
    "  # Define patch to activate new Insertion Order afer creation\n",
    "  patch = {\n",
    "      'entityStatus': 'ENTITY_STATUS_ACTIVE',\n",
    "  }\n",
    "\n",
    "  # API patch() request\n",
    "  display_video_service.advertisers().insertionOrders().patch(\n",
    "      advertiserId=ADVERTISER_ID,\n",
    "      insertionOrderId=newinsertionorder_request['insertionOrderId'],\n",
    "      updateMask='entityStatus',\n",
    "      body=patch).execute()\n",
    "\n",
    "  print(newinsertionorder_request)\n",
    "  return newinsertionorder_request\n",
    "\n"
   ]
  },
  {
   "cell_type": "code",
   "execution_count": 6,
   "metadata": {
    "colab": {
     "base_uri": "https://localhost:8080/"
    },
    "id": "u4TB8KEZXJ7F",
    "outputId": "2ad7917e-1d9b-46e9-aa1a-592aef48028c"
   },
   "outputs": [],
   "source": [
    "get_active_lineitems(ADVERTISER_ID,CAMPAIGN_ID)"
   ]
  },
  {
   "cell_type": "code",
   "execution_count": null,
   "metadata": {
    "id": "l6YnqIzYXOD0"
   },
   "outputs": [],
   "source": [
    "def pause_campaign(campaign_id):\n",
    "  \"\"\"Updates DV360 campaign object status to paused.\"\"\"\n",
    "\n",
    "  patch = {'entityStatus': 'ENTITY_STATUS_PAUSED'}\n",
    "\n",
    "  if campaign_id in protected_campaigns:\n",
    "    print(f'Campaign ID {campaign_id} not paused (protected campaign)')\n",
    "  else:\n",
    "    display_video_service.advertisers().campaigns().patch(\n",
    "        advertiserId=ADVERTISER_ID,\n",
    "        campaignId=campaign_id,\n",
    "        updateMask='entityStatus',\n",
    "        body=patch).execute()\n",
    "    print(f'Campaign ID {campaign_id} successfully paused')"
   ]
  },
  {
   "cell_type": "code",
   "execution_count": null,
   "metadata": {
    "colab": {
     "base_uri": "https://localhost:8080/",
     "height": 173
    },
    "id": "KICTsGJJi7FQ",
    "outputId": "7614827e-eeaa-4706-e451-f9c8ceaec093"
   },
   "outputs": [
    {
     "data": {
      "text/html": [
       "<div>\n",
       "<style scoped>\n",
       "    .dataframe tbody tr th:only-of-type {\n",
       "        vertical-align: middle;\n",
       "    }\n",
       "\n",
       "    .dataframe tbody tr th {\n",
       "        vertical-align: top;\n",
       "    }\n",
       "\n",
       "    .dataframe thead th {\n",
       "        text-align: right;\n",
       "    }\n",
       "</style>\n",
       "<table border=\"1\" class=\"dataframe\">\n",
       "  <thead>\n",
       "    <tr style=\"text-align: right;\">\n",
       "      <th></th>\n",
       "      <th>day</th>\n",
       "      <th>city</th>\n",
       "      <th>names</th>\n",
       "      <th>lowimpact_traffic</th>\n",
       "      <th>minor_traffic</th>\n",
       "      <th>moderate_traffic</th>\n",
       "      <th>serious_traffic</th>\n",
       "    </tr>\n",
       "  </thead>\n",
       "  <tbody>\n",
       "    <tr>\n",
       "      <th>0</th>\n",
       "      <td>2021-08-17</td>\n",
       "      <td>Auckland</td>\n",
       "      <td>['Northern Motorway']</td>\n",
       "      <td>None</td>\n",
       "      <td>3.0</td>\n",
       "      <td>NaN</td>\n",
       "      <td>None</td>\n",
       "    </tr>\n",
       "    <tr>\n",
       "      <th>1</th>\n",
       "      <td>2021-08-17</td>\n",
       "      <td>Auckland</td>\n",
       "      <td>['Northwestern Motorway']</td>\n",
       "      <td>None</td>\n",
       "      <td>1.0</td>\n",
       "      <td>NaN</td>\n",
       "      <td>None</td>\n",
       "    </tr>\n",
       "    <tr>\n",
       "      <th>2</th>\n",
       "      <td>2021-08-17</td>\n",
       "      <td>Christchurch</td>\n",
       "      <td>['Christchurch Southern Motorway']</td>\n",
       "      <td>None</td>\n",
       "      <td>1.0</td>\n",
       "      <td>1.0</td>\n",
       "      <td>None</td>\n",
       "    </tr>\n",
       "    <tr>\n",
       "      <th>3</th>\n",
       "      <td>2021-08-17</td>\n",
       "      <td>Auckland</td>\n",
       "      <td>['Southern Motorway']</td>\n",
       "      <td>None</td>\n",
       "      <td>NaN</td>\n",
       "      <td>2.0</td>\n",
       "      <td>None</td>\n",
       "    </tr>\n",
       "  </tbody>\n",
       "</table>\n",
       "</div>"
      ],
      "text/plain": [
       "          day          city  ... moderate_traffic serious_traffic\n",
       "0  2021-08-17      Auckland  ...              NaN            None\n",
       "1  2021-08-17      Auckland  ...              NaN            None\n",
       "2  2021-08-17  Christchurch  ...              1.0            None\n",
       "3  2021-08-17      Auckland  ...              2.0            None\n",
       "\n",
       "[4 rows x 7 columns]"
      ]
     },
     "execution_count": 23,
     "metadata": {
      "tags": []
     },
     "output_type": "execute_result"
    }
   ],
   "source": [
    "bqclient = bigquery.Client(project=)\n",
    "query_string = \"\"\"\n",
    "Pull Traffic Data from BigQuery\n",
    "\"\"\"\n",
    "job = bqclient.query(query_string)\n",
    "\n",
    "df1 = job.result().to_dataframe()\n",
    "df1"
   ]
  },
  {
   "cell_type": "code",
   "execution_count": 7,
   "metadata": {
    "id": "PnXGPryfvcVy"
   },
   "outputs": [],
   "source": [
    "def runBQ(self):\n",
    "  bqclient = bigquery.Client(project=)\n",
    "  query_string = \"\"\"\n",
    "    Pull Traffic Data from BigQuery\n",
    "  \"\"\"\n",
    "  job = bqclient.query(query_string)\n",
    "\n",
    "  df1 = job.result().to_dataframe()\n",
    "  df1.loc[df1['names'] == \"['Northwestern Motorway']\", 'lineItemId'] = \"\"\n",
    "  df1.loc[df1['names'] == \"['Northern Motorway']\", 'lineItemId'] = \"\"\n",
    "  df1.loc[df1['names'] == \"['Southwestern Motorway']\", 'lineItemId'] = \"\"\n",
    "  df1.loc[df1['names'] == \"['Southern Motorway']\", 'lineItemId'] = \"\"\n",
    "  df1.loc[df1['names'] == \"['Christchurch Southern Motorway']\", 'lineItemId'] = \"\"\n",
    "  df1 = df1.fillna(value=0)\n",
    "  df1 = df1.astype({'lowimpact_traffic':'int64','minor_traffic':'int64','moderate_traffic':'int64','serious_traffic':'int64'})\n",
    "  return df1"
   ]
  },
  {
   "cell_type": "code",
   "execution_count": 8,
   "metadata": {
    "colab": {
     "base_uri": "https://localhost:8080/",
     "height": 173
    },
    "id": "FY44MeIYvrSF",
    "outputId": "ff7b7278-ddb0-4555-97c0-6dfdb87d1f99"
   },
   "outputs": [],
   "source": [
    "df1 = runBQ(self=True)\n",
    "df1"
   ]
  },
  {
   "cell_type": "code",
   "execution_count": 9,
   "metadata": {
    "colab": {
     "background_save": true,
     "base_uri": "https://localhost:8080/"
    },
    "id": "p5DRiXkMvkHt",
    "outputId": "8810e1ba-a4b8-400e-b9a5-cf9e2369c24f"
   },
   "outputs": [],
   "source": [
    "refresh_line_items(2100)"
   ]
  },
  {
   "cell_type": "code",
   "execution_count": null,
   "metadata": {
    "id": "Rv369b3dvawv"
   },
   "outputs": [],
   "source": [
    "def runLineItems(dataframe):\n",
    "  def activate_lineitem(lineitem_id):\n",
    "      \"\"\"Updates DV360 lineitem object status to active.\"\"\"\n",
    "\n",
    "      patch = {'entityStatus': 'ENTITY_STATUS_ACTIVE'}\n",
    "\n",
    "      display_video_service.advertisers().lineItems().patch(\n",
    "      lineItemId=lineitem_id,\n",
    "      advertiserId=ADVERTISER_ID,\n",
    "      updateMask='entityStatus',\n",
    "      body=patch).execute()\n",
    "      return print(f'Lineitem ID {lineitem_id} is active')\n",
    "\n",
    "  def pause_lineitem(lineitem_id):\n",
    "      \"\"\"Updates DV360 lineitem object status to active.\"\"\"\n",
    "\n",
    "      patch = {'entityStatus': 'ENTITY_STATUS_PAUSED'}\n",
    "\n",
    "      display_video_service.advertisers().lineItems().patch(\n",
    "      lineItemId=lineitem_id,\n",
    "      advertiserId=ADVERTISER_ID,\n",
    "      updateMask='entityStatus',\n",
    "      body=patch).execute()\n",
    "      return print(f'Lineitem ID {lineitem_id} is paused')\n",
    "\n",
    "  for x in dataframe.itertuples():\n",
    "    if (x[6] != 0) or (x[7] != 0):\n",
    "      activate_lineitem(x[8])\n",
    "    else:\n",
    "      pause_lineitem(x[8])\n",
    "  return 'Line Items Updated'"
   ]
  },
  {
   "cell_type": "code",
   "execution_count": null,
   "metadata": {
    "id": "Th3jwkH3wC_O"
   },
   "outputs": [],
   "source": [
    "def refresh_line_items(interval):\n",
    "    while True:\n",
    "      df1 = runBQ(self=True)\n",
    "      runLineItems(df1)\n",
    "      time.sleep(interval)"
   ]
  },
  {
   "cell_type": "code",
   "execution_count": 10,
   "metadata": {
    "colab": {
     "base_uri": "https://localhost:8080/",
     "height": 173
    },
    "id": "-0vRZCXtWL3B",
    "outputId": "60a4da94-e09a-4eb5-a885-2b5c8b339eca"
   },
   "outputs": [],
   "source": [
    "df1"
   ]
  },
  {
   "cell_type": "code",
   "execution_count": null,
   "metadata": {
    "id": "KMgJ_Wc-v3uj"
   },
   "outputs": [],
   "source": []
  }
 ],
 "metadata": {
  "colab": {
   "name": "DV-360.ipynb",
   "provenance": []
  },
  "kernelspec": {
   "display_name": "Python 3",
   "language": "python",
   "name": "python3"
  },
  "language_info": {
   "codemirror_mode": {
    "name": "ipython",
    "version": 3
   },
   "file_extension": ".py",
   "mimetype": "text/x-python",
   "name": "python",
   "nbconvert_exporter": "python",
   "pygments_lexer": "ipython3",
   "version": "3.8.8"
  }
 },
 "nbformat": 4,
 "nbformat_minor": 1
}
