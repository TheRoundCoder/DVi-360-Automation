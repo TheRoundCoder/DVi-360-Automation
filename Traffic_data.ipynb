{
 "cells": [
  {
   "cell_type": "code",
   "execution_count": null,
   "metadata": {
    "id": "AZkQ-fimzt-9"
   },
   "outputs": [],
   "source": [
    "!pip install eventregistry\n",
    "!pip install spacy\n",
    "!pip install fsspec\n",
    "!pip install gcsfs \n",
    "!pip install text2emotion\n",
    "!pip install newsapi-python\n",
    "!pip install cloudstorage\n",
    "!pip install geocoder"
   ]
  },
  {
   "cell_type": "code",
   "execution_count": null,
   "metadata": {
    "colab": {
     "base_uri": "https://localhost:8080/"
    },
    "id": "Hycg1ukczvJQ",
    "outputId": "0ffca8e7-3eab-4fff-b9c2-f86d543a4b40"
   },
   "outputs": [
    {
     "data": {
      "text/plain": [
       "<DstTzInfo 'Pacific/Auckland' LMT+11:39:00 STD>"
      ]
     },
     "execution_count": 2,
     "metadata": {
      "tags": []
     },
     "output_type": "execute_result"
    }
   ],
   "source": [
    "import requests\n",
    "import json\n",
    "import pandas as pd \n",
    "from google.colab import auth\n",
    "from google.cloud import bigquery\n",
    "from google.cloud import storage\n",
    "auth.authenticate_user()\n",
    "import pytz\n",
    "from datetime import datetime\n",
    "import geocoder\n",
    "import time\n",
    "import pytz\n",
    "pytz.timezone(\"Pacific/Auckland\")"
   ]
  },
  {
   "cell_type": "code",
   "execution_count": 3,
   "metadata": {
    "colab": {
     "base_uri": "https://localhost:8080/",
     "height": 35
    },
    "id": "DIms0hGCzvyw",
    "outputId": "d5800391-b87e-4bf8-aeb8-df121e94292d"
   },
   "outputs": [],
   "source": [
    "projectId = \"GCP-Project-ID\"\n",
    "bqclient = bigquery.Client(project=projectId)\n",
    "storage_client = storage.Client(project=projectId)\n",
    "bucket = storage_client.get_bucket(\"together-internals\")\n",
    "# locations_df = pd.read_csv(\"locations directory\")\n",
    "# motorway_df = pd.read_csv(\"locations directory\")\n",
    "current = datetime.now(pytz.timezone(\"Pacific/Auckland\"))\n",
    "current = current.strftime(\"%Y-%m-%d\")\n"
   ]
  },
  {
   "cell_type": "code",
   "execution_count": 1,
   "metadata": {
    "id": "wrle1naiWc2T"
   },
   "outputs": [],
   "source": [
    "def startDataPull(self):\n",
    "  def getTrafficData(wendysLocations,viceVersaLocation):\n",
    "    to_cbd = []\n",
    "    to_viceversa = [] \n",
    "    cbd_urls = []\n",
    "    viceversa_urls = []\n",
    "    cbd_names = []\n",
    "    viceversa_names = []\n",
    "    address = []\n",
    "    all_warning_address_cbd = []\n",
    "    all_warning_address_versa = []\n",
    "    for x,y in zip(wendysLocations['Highway Coordinates'],wendysLocations['Destinations']):\n",
    "      url = \"https://dev.virtualearth.net/REST/V1/Routes/Driving?o=json&wp.0=\"+x+\"&wp.1=\"+y+\"&avoid=minimizeTolls&key=94PL6GaE9vLv8y9zGgDH~LhrN9nkgmXOpouX0O_FzkQ~AqlA2D3PTDKPE7cK_NuGSE5VMqQb_0h4A5XS_AkfepjQT27zxmqkdNICJp_Knu_a\"\n",
    "      cbd_urls.append(url)\n",
    "      for x in cbd_urls:\n",
    "        request = requests.get(x)\n",
    "        to_cbd.append(request.json())\n",
    "\n",
    "    for x,y in zip(viceVersaLocation['Highway Coordinates'],viceVersaLocation['Destinations']):\n",
    "      url = \"https://dev.virtualearth.net/REST/V1/Routes/Driving?o=json&wp.0=\"+x+\"&wp.1=\"+y+\"&avoid=minimizeTolls&key=94PL6GaE9vLv8y9zGgDH~LhrN9nkgmXOpouX0O_FzkQ~AqlA2D3PTDKPE7cK_NuGSE5VMqQb_0h4A5XS_AkfepjQT27zxmqkdNICJp_Knu_a\"\n",
    "      viceversa_urls.append(url)\n",
    "      for x in viceversa_urls:\n",
    "        request = requests.get(x)\n",
    "        to_viceversa.append(request.json())\n",
    "\n",
    "\n",
    "    # TO CBD Data\n",
    "    to_cbd_df = pd.DataFrame(data=to_cbd)\n",
    "    #Unnesting\n",
    "    to_cbd_df = pd.json_normalize(to_cbd_df.explode('resourceSets')['resourceSets'].dropna())\n",
    "    to_cbd_df = pd.json_normalize(to_cbd_df.explode('resources')['resources'])\n",
    "    to_cbd_df = pd.json_normalize(to_cbd_df.explode('routeLegs')['routeLegs'])\n",
    "    to_cbd_df = pd.json_normalize(to_cbd_df.explode('itineraryItems')['itineraryItems'])\n",
    "    to_cbd_df = to_cbd_df.explode('details')\n",
    "    cbd_dataList = to_cbd_df['details']\n",
    "    cbd_dataList = pd.json_normalize(cbd_dataList)\n",
    "    cbd_dataList = pd.DataFrame(data=cbd_dataList)\n",
    "\n",
    "    for x in cbd_dataList['names']:\n",
    "      cbd_names.append(x)\n",
    "\n",
    "    to_cbd_df['names'] = cbd_names\n",
    "    to_cbd_df['names'] = to_cbd_df['names'].astype(str)\n",
    "    to_cbd_df = to_cbd_df[to_cbd_df['names'].str.contains(\"Motorway\", regex=False,na=False)]\n",
    "    to_cbd_df = to_cbd_df[['warnings','names']].dropna()\n",
    "    to_cbd_df = to_cbd_df.reset_index()\n",
    "    all_warning_address_cbd = to_cbd_df['names']\n",
    "    to_cbd_df = pd.json_normalize(to_cbd_df.explode('warnings')['warnings'])\n",
    "    to_cbd_df['date'] = current\n",
    "    to_cbd_df['category'] = \"to CBD\"\n",
    "    to_cbd_df = to_cbd_df.drop_duplicates(subset=\"origin\")\n",
    "\n",
    "    # Vice Versa Data\n",
    "    to_viceversa_df = pd.DataFrame(data=to_viceversa)\n",
    "    #Unnesting\n",
    "    to_viceversa_df = pd.json_normalize(to_viceversa_df.explode('resourceSets')['resourceSets'].dropna())\n",
    "    to_viceversa_df = pd.json_normalize(to_viceversa_df.explode('resources')['resources'])\n",
    "    to_viceversa_df = pd.json_normalize(to_viceversa_df.explode('routeLegs')['routeLegs'])\n",
    "    to_viceversa_df = pd.json_normalize(to_viceversa_df.explode('itineraryItems')['itineraryItems'])\n",
    "    to_viceversa_df = to_viceversa_df.explode('details')\n",
    "    viceversa_dataList = to_viceversa_df['details']\n",
    "    viceversa_dataList = pd.json_normalize(viceversa_dataList)\n",
    "    viceversa_dataList = pd.DataFrame(data=viceversa_dataList)\n",
    "\n",
    "    for x in viceversa_dataList['names']:\n",
    "      viceversa_names.append(x)\n",
    "\n",
    "    to_viceversa_df['names'] = viceversa_names\n",
    "    to_viceversa_df['names'] = to_viceversa_df['names'].astype(str)\n",
    "    to_viceversa_df = to_viceversa_df[to_viceversa_df['names'].str.contains(\"Motorway\", regex=False,na=False)]\n",
    "    to_viceversa_df = to_viceversa_df[['warnings','names']].dropna()\n",
    "    to_viceversa_df = to_viceversa_df.reset_index()\n",
    "    all_warning_address_versa = to_viceversa_df['names']\n",
    "    to_viceversa_df = pd.json_normalize(to_viceversa_df.explode('warnings')['warnings'])\n",
    "    to_viceversa_df['date'] = current\n",
    "    to_viceversa_df['category'] = \"Vice Versa\"\n",
    "    to_viceversa_df = to_viceversa_df.drop_duplicates(subset=\"origin\")\n",
    "\n",
    "    # Push data to BQ\n",
    "    frames = [to_cbd_df,to_viceversa_df]\n",
    "    df = pd.concat(frames)\n",
    "    for x in df['to']:\n",
    "      g = geocoder.bing(x, method='reverse',key='BING_API_KEY')\n",
    "      for results in g:\n",
    "        address.append(g.city)\n",
    "        time.sleep(0.3)\n",
    "    all_warning_address = [all_warning_address_cbd,all_warning_address_versa]\n",
    "    all_warning_address = pd.concat(all_warning_address)\n",
    "    df['names'] = all_warning_address\n",
    "    df['city'] = address\n",
    "    df.to_gbq('baconator.traffic_data',projectId,if_exists='replace')\n",
    "\n",
    "  getTrafficData(locations_df,motorway_df)\n",
    "\n",
    "  return 'Traffic Data Pushed!'\n",
    "\n",
    "  "
   ]
  },
  {
   "cell_type": "code",
   "execution_count": 2,
   "metadata": {
    "colab": {
     "base_uri": "https://localhost:8080/",
     "height": 306
    },
    "id": "I7WCMPK1XFtN",
    "outputId": "0e8ea165-5f13-47d5-8d1b-a1edc4d11f77"
   },
   "outputs": [],
   "source": [
    "startDataPull(self=True)"
   ]
  }
 ],
 "metadata": {
  "colab": {
   "collapsed_sections": [],
   "name": "Traffic_data.ipynb",
   "provenance": []
  },
  "kernelspec": {
   "display_name": "Python 3",
   "language": "python",
   "name": "python3"
  },
  "language_info": {
   "codemirror_mode": {
    "name": "ipython",
    "version": 3
   },
   "file_extension": ".py",
   "mimetype": "text/x-python",
   "name": "python",
   "nbconvert_exporter": "python",
   "pygments_lexer": "ipython3",
   "version": "3.8.8"
  }
 },
 "nbformat": 4,
 "nbformat_minor": 1
}
